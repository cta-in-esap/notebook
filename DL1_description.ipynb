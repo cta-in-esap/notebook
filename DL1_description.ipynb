{
 "cells": [
  {
   "cell_type": "markdown",
   "id": "89bab7c7",
   "metadata": {},
   "source": [
    "# CTA Data Analysis"
   ]
  },
  {
   "cell_type": "markdown",
   "id": "3cfa5cea",
   "metadata": {},
   "source": [
    "### ctapipe\n",
    "This tutorial uses ctapipe, a framework for prototyping the low-level data processing algorithms for the Cherenkov Telescope Array. To get more information about the instalation and tutorials of ctapipe go to: https://cta-observatory.github.io/ctapipe/index.html\n",
    "\n",
    "The public files here described are available at https://doi.org/10.5281/zenodo.7298569."
   ]
  },
  {
   "cell_type": "markdown",
   "id": "d1a0859c",
   "metadata": {},
   "source": [
    "### Worflow: <br>\n",
    "1. Open file and explore the dataset\n",
    ">- See internal structure and metadata in HDF5 file.\n",
    ">- Usage of ctapipe TableLoader\n",
    ">- Subarray description\n",
    ">- DL1: DL1a and DL1b. Plot images and see the parameters"
   ]
  },
  {
   "cell_type": "markdown",
   "id": "1dd7277b",
   "metadata": {},
   "source": [
    "## 1. Open file and explore the dataset."
   ]
  },
  {
   "cell_type": "markdown",
   "id": "dd86cb0f",
   "metadata": {},
   "source": [
    "### See internal structure and metadata in HDF5 file:"
   ]
  },
  {
   "cell_type": "code",
   "execution_count": 1,
   "id": "015dd1a8",
   "metadata": {},
   "outputs": [],
   "source": [
    "# Load necessary packages\n",
    "import numpy as np\n",
    "import pandas as pd\n",
    "import matplotlib.pyplot as plt\n",
    "from astropy import units as u\n",
    "\n",
    "# Packages to explore HDF5 file\n",
    "import tables\n",
    "from ctapipe.io import read_table\n",
    "\n",
    "# Packages for subarray description\n",
    "from ctapipe.instrument import SubarrayDescription\n",
    "from ctapipe.visualization import CameraDisplay\n",
    "\n",
    "# Packages for extracting the images parameters\n",
    "from ctapipe.image import hillas_parameters\n",
    "#from ctapipe.image import timing_parameters\n",
    "#from ctapipe.image import number_of_islands\n",
    "#from ctapipe.image import camera_to_shower_coordinates\n"
   ]
  },
  {
   "cell_type": "code",
   "execution_count": 5,
   "id": "8d7912d8",
   "metadata": {},
   "outputs": [],
   "source": [
    "hdf_file = \"gamma-diffuse_with_images_00.dl2.h5\"\n",
    "h5file = tables.open_file(hdf_file, mode=\"r\", title=\"DL file\")"
   ]
  },
  {
   "cell_type": "markdown",
   "id": "baa4be70",
   "metadata": {},
   "source": [
    "*See metadata related to the moment when the gamma file was created or modified:*"
   ]
  },
  {
   "cell_type": "code",
   "execution_count": null,
   "id": "ee2254eb",
   "metadata": {},
   "outputs": [],
   "source": [
    "h5file.root._v_attrs"
   ]
  },
  {
   "cell_type": "markdown",
   "id": "a6c13f39",
   "metadata": {},
   "source": [
    "*HDF5 files internal structure is composed of tables inside containers that we can browse at different leves:*"
   ]
  },
  {
   "cell_type": "code",
   "execution_count": null,
   "id": "492a18f1",
   "metadata": {},
   "outputs": [],
   "source": [
    "h5file"
   ]
  },
  {
   "cell_type": "markdown",
   "id": "5624aec7",
   "metadata": {},
   "source": [
    "To visualize any of the tables, for instance /simulation/service/shower_distribution:"
   ]
  },
  {
   "cell_type": "code",
   "execution_count": 3,
   "id": "42182c17",
   "metadata": {},
   "outputs": [
    {
     "ename": "OSError",
     "evalue": "``/Users/nalvarez/Documents/ESCAPE/cta/dataset/zenodo_gamma-diffuse/gamma-diffuse_with_images_00.dl2.h5`` does not exist",
     "output_type": "error",
     "traceback": [
      "\u001b[0;31m---------------------------------------------------------------------------\u001b[0m",
      "\u001b[0;31mOSError\u001b[0m                                   Traceback (most recent call last)",
      "Cell \u001b[0;32mIn[3], line 1\u001b[0m\n\u001b[0;32m----> 1\u001b[0m shower_distribution \u001b[38;5;241m=\u001b[39m \u001b[43mread_table\u001b[49m\u001b[43m(\u001b[49m\u001b[43mhdf_file\u001b[49m\u001b[43m,\u001b[49m\u001b[43m \u001b[49m\u001b[38;5;124;43m'\u001b[39;49m\u001b[38;5;124;43m/simulation/service/shower_distribution\u001b[39;49m\u001b[38;5;124;43m'\u001b[39;49m\u001b[43m)\u001b[49m\n\u001b[1;32m      2\u001b[0m shower_distribution[\u001b[38;5;241m0\u001b[39m:\u001b[38;5;241m5\u001b[39m]\n",
      "File \u001b[0;32m~/software/ctapipe/ctapipe/io/astropy_helpers.py:70\u001b[0m, in \u001b[0;36mread_table\u001b[0;34m(h5file, path, start, stop, step, condition, table_cls)\u001b[0m\n\u001b[1;32m     67\u001b[0m \u001b[38;5;28;01mwith\u001b[39;00m ExitStack() \u001b[38;5;28;01mas\u001b[39;00m stack:\n\u001b[1;32m     69\u001b[0m     \u001b[38;5;28;01mif\u001b[39;00m \u001b[38;5;129;01mnot\u001b[39;00m \u001b[38;5;28misinstance\u001b[39m(h5file, tables\u001b[38;5;241m.\u001b[39mFile):\n\u001b[0;32m---> 70\u001b[0m         h5file \u001b[38;5;241m=\u001b[39m stack\u001b[38;5;241m.\u001b[39menter_context(\u001b[43mtables\u001b[49m\u001b[38;5;241;43m.\u001b[39;49m\u001b[43mopen_file\u001b[49m\u001b[43m(\u001b[49m\u001b[43mh5file\u001b[49m\u001b[43m)\u001b[49m)\n\u001b[1;32m     72\u001b[0m     \u001b[38;5;66;03m# check if the table was written using astropy table io, if yes\u001b[39;00m\n\u001b[1;32m     73\u001b[0m     \u001b[38;5;66;03m# just use astropy\u001b[39;00m\n\u001b[1;32m     74\u001b[0m     is_astropy \u001b[38;5;241m=\u001b[39m \u001b[38;5;124mf\u001b[39m\u001b[38;5;124m\"\u001b[39m\u001b[38;5;132;01m{\u001b[39;00mpath\u001b[38;5;132;01m}\u001b[39;00m\u001b[38;5;124m.__table_column_meta__\u001b[39m\u001b[38;5;124m\"\u001b[39m \u001b[38;5;129;01min\u001b[39;00m h5file\u001b[38;5;241m.\u001b[39mroot\n",
      "File \u001b[0;32m/opt/miniconda3/envs/cta-dev/lib/python3.9/site-packages/tables/file.py:300\u001b[0m, in \u001b[0;36mopen_file\u001b[0;34m(filename, mode, title, root_uep, filters, **kwargs)\u001b[0m\n\u001b[1;32m    295\u001b[0m             \u001b[38;5;28;01mraise\u001b[39;00m \u001b[38;5;167;01mValueError\u001b[39;00m(\n\u001b[1;32m    296\u001b[0m                 \u001b[38;5;124m\"\u001b[39m\u001b[38;5;124mThe file \u001b[39m\u001b[38;5;124m'\u001b[39m\u001b[38;5;132;01m%s\u001b[39;00m\u001b[38;5;124m'\u001b[39m\u001b[38;5;124m is already opened.  Please \u001b[39m\u001b[38;5;124m\"\u001b[39m\n\u001b[1;32m    297\u001b[0m                 \u001b[38;5;124m\"\u001b[39m\u001b[38;5;124mclose it before reopening in write mode.\u001b[39m\u001b[38;5;124m\"\u001b[39m \u001b[38;5;241m%\u001b[39m filename)\n\u001b[1;32m    299\u001b[0m \u001b[38;5;66;03m# Finally, create the File instance, and return it\u001b[39;00m\n\u001b[0;32m--> 300\u001b[0m \u001b[38;5;28;01mreturn\u001b[39;00m \u001b[43mFile\u001b[49m\u001b[43m(\u001b[49m\u001b[43mfilename\u001b[49m\u001b[43m,\u001b[49m\u001b[43m \u001b[49m\u001b[43mmode\u001b[49m\u001b[43m,\u001b[49m\u001b[43m \u001b[49m\u001b[43mtitle\u001b[49m\u001b[43m,\u001b[49m\u001b[43m \u001b[49m\u001b[43mroot_uep\u001b[49m\u001b[43m,\u001b[49m\u001b[43m \u001b[49m\u001b[43mfilters\u001b[49m\u001b[43m,\u001b[49m\u001b[43m \u001b[49m\u001b[38;5;241;43m*\u001b[39;49m\u001b[38;5;241;43m*\u001b[39;49m\u001b[43mkwargs\u001b[49m\u001b[43m)\u001b[49m\n",
      "File \u001b[0;32m/opt/miniconda3/envs/cta-dev/lib/python3.9/site-packages/tables/file.py:750\u001b[0m, in \u001b[0;36mFile.__init__\u001b[0;34m(self, filename, mode, title, root_uep, filters, **kwargs)\u001b[0m\n\u001b[1;32m    747\u001b[0m \u001b[38;5;28mself\u001b[39m\u001b[38;5;241m.\u001b[39mparams \u001b[38;5;241m=\u001b[39m params\n\u001b[1;32m    749\u001b[0m \u001b[38;5;66;03m# Now, it is time to initialize the File extension\u001b[39;00m\n\u001b[0;32m--> 750\u001b[0m \u001b[38;5;28;43mself\u001b[39;49m\u001b[38;5;241;43m.\u001b[39;49m\u001b[43m_g_new\u001b[49m\u001b[43m(\u001b[49m\u001b[43mfilename\u001b[49m\u001b[43m,\u001b[49m\u001b[43m \u001b[49m\u001b[43mmode\u001b[49m\u001b[43m,\u001b[49m\u001b[43m \u001b[49m\u001b[38;5;241;43m*\u001b[39;49m\u001b[38;5;241;43m*\u001b[39;49m\u001b[43mparams\u001b[49m\u001b[43m)\u001b[49m\n\u001b[1;32m    752\u001b[0m \u001b[38;5;66;03m# Check filters and set PyTables format version for new files.\u001b[39;00m\n\u001b[1;32m    753\u001b[0m new \u001b[38;5;241m=\u001b[39m \u001b[38;5;28mself\u001b[39m\u001b[38;5;241m.\u001b[39m_v_new\n",
      "File \u001b[0;32m/opt/miniconda3/envs/cta-dev/lib/python3.9/site-packages/tables/hdf5extension.pyx:368\u001b[0m, in \u001b[0;36mtables.hdf5extension.File._g_new\u001b[0;34m()\u001b[0m\n",
      "File \u001b[0;32m/opt/miniconda3/envs/cta-dev/lib/python3.9/site-packages/tables/utils.py:143\u001b[0m, in \u001b[0;36mcheck_file_access\u001b[0;34m(filename, mode)\u001b[0m\n\u001b[1;32m    140\u001b[0m \u001b[38;5;28;01mif\u001b[39;00m mode \u001b[38;5;241m==\u001b[39m \u001b[38;5;124m'\u001b[39m\u001b[38;5;124mr\u001b[39m\u001b[38;5;124m'\u001b[39m:\n\u001b[1;32m    141\u001b[0m     \u001b[38;5;66;03m# The file should be readable.\u001b[39;00m\n\u001b[1;32m    142\u001b[0m     \u001b[38;5;28;01mif\u001b[39;00m \u001b[38;5;129;01mnot\u001b[39;00m os\u001b[38;5;241m.\u001b[39maccess(path, os\u001b[38;5;241m.\u001b[39mF_OK):\n\u001b[0;32m--> 143\u001b[0m         \u001b[38;5;28;01mraise\u001b[39;00m \u001b[38;5;167;01mOSError\u001b[39;00m(\u001b[38;5;124mf\u001b[39m\u001b[38;5;124m\"\u001b[39m\u001b[38;5;124m``\u001b[39m\u001b[38;5;132;01m{\u001b[39;00mpath\u001b[38;5;132;01m}\u001b[39;00m\u001b[38;5;124m`` does not exist\u001b[39m\u001b[38;5;124m\"\u001b[39m)\n\u001b[1;32m    144\u001b[0m     \u001b[38;5;28;01mif\u001b[39;00m \u001b[38;5;129;01mnot\u001b[39;00m path\u001b[38;5;241m.\u001b[39mis_file():\n\u001b[1;32m    145\u001b[0m         \u001b[38;5;28;01mraise\u001b[39;00m \u001b[38;5;167;01mOSError\u001b[39;00m(\u001b[38;5;124mf\u001b[39m\u001b[38;5;124m\"\u001b[39m\u001b[38;5;124m``\u001b[39m\u001b[38;5;132;01m{\u001b[39;00mpath\u001b[38;5;132;01m}\u001b[39;00m\u001b[38;5;124m`` is not a regular file\u001b[39m\u001b[38;5;124m\"\u001b[39m)\n",
      "\u001b[0;31mOSError\u001b[0m: ``/Users/nalvarez/Documents/ESCAPE/cta/dataset/zenodo_gamma-diffuse/gamma-diffuse_with_images_00.dl2.h5`` does not exist"
     ]
    }
   ],
   "source": [
    "shower_distribution = read_table(hdf_file, '/simulation/service/shower_distribution')\n",
    "shower_distribution[0:5]"
   ]
  },
  {
   "cell_type": "markdown",
   "id": "31dee091",
   "metadata": {},
   "source": [
    "### * Tip\n",
    "To explore a HDF5 file through a GUI, you can use [vitables](https://vitables.org/) or [HDFView](https://www.hdfgroup.org/downloads/hdfview/). "
   ]
  },
  {
   "cell_type": "markdown",
   "id": "88de137b",
   "metadata": {},
   "source": [
    "### ctapipe.io.TableLoader\n",
    "ctpipe offers several ways to access the tables. Another convenient tool is to load the data using **ctapipe.io.TableLoader**\n",
    "\n",
    "See the [TableLoader docs](https://cta-observatory.github.io/ctapipe/api/ctapipe.io.TableLoader.html#ctapipe.io.TableLoader)"
   ]
  },
  {
   "cell_type": "code",
   "execution_count": null,
   "id": "13703486",
   "metadata": {},
   "outputs": [],
   "source": [
    "from ctapipe.io import TableLoader"
   ]
  },
  {
   "cell_type": "code",
   "execution_count": null,
   "id": "89c57986",
   "metadata": {},
   "outputs": [],
   "source": [
    "opts = dict(load_dl2=True, load_dl1_images=False, load_simulated=True)\n",
    "with TableLoader(\"/Users/nalvarez/Documents/ESCAPE/cta/dataset/zenodo_gamma-diffuse/gamma-diffuse_with_images_00.dl2.h5\", **opts) as loader:\n",
    "    subarray = loader.subarray\n",
    "    gamma_observations = loader.read_observation_information() \n",
    "    gamma_events = loader.read_subarray_events() \n",
    "    gamma_tel_events = loader.read_telescope_events() \n",
    "    gamma_hists = loader.read_shower_distribution() \n",
    "    gamma_sim_configs = loader.read_simulation_configuration() "
   ]
  },
  {
   "cell_type": "code",
   "execution_count": null,
   "id": "aee1c848",
   "metadata": {},
   "outputs": [],
   "source": [
    "gamma_observations[0:5]"
   ]
  },
  {
   "cell_type": "code",
   "execution_count": null,
   "id": "1ca9f6ab",
   "metadata": {},
   "outputs": [],
   "source": [
    "gamma_events[0:5]"
   ]
  },
  {
   "cell_type": "markdown",
   "id": "59b408e6",
   "metadata": {},
   "source": [
    "Take into account that TableLoader loads different hdf5 file tables into the same output table, in order to have all the relevant parameters for a study. For instance:\n",
    "- **gamma_observations** is the table /configuration/observation/observation_block \n",
    "- **gamma_events** is a combination of the tables dl1/event/subarray/trigger, simulation/event/subarray/shower and dl1/event/subarray/geometry/HillasReconstructor\n",
    "- **gamma_tel_events** is a combination of the tables dl1/event/telescope/parameters_tel_, dl2/event/telescope/impact/HillasReconstructor/tel_, simulation/event/telescope/impact/tel_, dl1/event/subarray/trigger, simulation/event/subarray/shower and dl1/event/subarray/geometry/HillasReconstructor\n",
    "- **gamma_hists** is the table /simulation/service/shower_distribution\n",
    "- **gamma_sim_configs** is the table /configuration/simulation/run"
   ]
  },
  {
   "cell_type": "markdown",
   "id": "45143888",
   "metadata": {},
   "source": [
    "*For instance:*"
   ]
  },
  {
   "cell_type": "code",
   "execution_count": null,
   "id": "06d82999",
   "metadata": {},
   "outputs": [],
   "source": [
    "gamma_hists[0:5], read_table(hdf_file, '/simulation/service/shower_distribution')[0:5]"
   ]
  },
  {
   "cell_type": "code",
   "execution_count": null,
   "id": "599f0aeb",
   "metadata": {},
   "outputs": [],
   "source": [
    "def info(obs, events, tel_events):\n",
    "    n_runs = len(obs)\n",
    "    n_events = len(events)\n",
    "    n_valid_stereo = np.count_nonzero(events['HillasReconstructor_is_valid'])\n",
    "    n_tel_events = len(tel_events)\n",
    "    n_valid_params = np.count_nonzero(tel_events['hillas_width'] > 0)\n",
    "    \n",
    "    print(f\"Runs: {n_runs: 8d}\")\n",
    "    print(f\"Events: {n_events: 8d}\")\n",
    "    print(f\"With valid stereo: {n_valid_stereo: 8d}\")\n",
    "    print(f\"Tel-Events: {n_tel_events: 8d}\")\n",
    "    print(f\"With valid params: {n_valid_params: 8d}\")"
   ]
  },
  {
   "cell_type": "code",
   "execution_count": null,
   "id": "3d9ae90c",
   "metadata": {},
   "outputs": [],
   "source": [
    "print(\"Gammas\")\n",
    "info(gamma_observations, gamma_events, gamma_tel_events)"
   ]
  },
  {
   "cell_type": "markdown",
   "id": "1e750ca9",
   "metadata": {},
   "source": [
    "- **Event:** a basic unit of data, detection associated with a cascade of particles. There are also calibration events, created via laser or pedestal, to estimate the noise.\n",
    "- **Run:** set of events taken in similar conditions, i.e., pointing to the same astronomical source in a maximum time of 20 min (since the instrument response depends of zenital and azimutal angles).\n"
   ]
  },
  {
   "cell_type": "code",
   "execution_count": null,
   "id": "c1852c11",
   "metadata": {},
   "outputs": [],
   "source": [
    "fig, ax = plt.subplots(layout=\"constrained\")\n",
    "multiplicity = np.count_nonzero(gamma_events['HillasReconstructor_telescopes'],axis=1)\n",
    "bin_centers = np.arange(len(subarray) + 1)\n",
    "bins = np.append(bin_centers - 0.5, bin_centers[-1] + 0.5)\n",
    "ax.hist(\n",
    "    multiplicity,\n",
    "    bins=bins,\n",
    "    linewidth=2,\n",
    "    edgecolor='w',\n",
    ")\n",
    "ax.set_xlabel('Multiplicity')\n",
    "ax.set_xticks(bin_centers)\n",
    "None"
   ]
  },
  {
   "cell_type": "markdown",
   "id": "d98d0ae1",
   "metadata": {},
   "source": [
    "### Subarray description\n",
    "Here we will explore the telescope setup."
   ]
  },
  {
   "cell_type": "markdown",
   "id": "be307a65",
   "metadata": {},
   "source": [
    "*Read instrument description, needed for camera display:*"
   ]
  },
  {
   "cell_type": "code",
   "execution_count": null,
   "id": "81bd654c",
   "metadata": {},
   "outputs": [],
   "source": [
    "subarray = SubarrayDescription.from_hdf(hdf_file)\n",
    "subarray"
   ]
  },
  {
   "cell_type": "code",
   "execution_count": null,
   "id": "377eb6dd",
   "metadata": {},
   "outputs": [],
   "source": [
    "subarray.info()"
   ]
  },
  {
   "cell_type": "code",
   "execution_count": null,
   "id": "da522c4d",
   "metadata": {
    "scrolled": true
   },
   "outputs": [],
   "source": [
    "subarray.peek()"
   ]
  },
  {
   "cell_type": "code",
   "execution_count": null,
   "id": "d284ca22",
   "metadata": {},
   "outputs": [],
   "source": [
    "subarray.to_table()"
   ]
  },
  {
   "cell_type": "code",
   "execution_count": null,
   "id": "4d9dc9dd",
   "metadata": {},
   "outputs": [],
   "source": [
    "subarray.tel"
   ]
  },
  {
   "cell_type": "markdown",
   "id": "116d848a",
   "metadata": {},
   "source": [
    "*Get a table of the optics description:*"
   ]
  },
  {
   "cell_type": "code",
   "execution_count": null,
   "id": "e3712eeb",
   "metadata": {},
   "outputs": [],
   "source": [
    "subarray.to_table(kind=\"optics\")"
   ]
  },
  {
   "cell_type": "markdown",
   "id": "397dc3d8",
   "metadata": {},
   "source": [
    "*Choose one telescope to display properties, for instance LST, tel_id 1:*"
   ]
  },
  {
   "cell_type": "code",
   "execution_count": null,
   "id": "99bea321",
   "metadata": {},
   "outputs": [],
   "source": [
    "tel = subarray.tel[1]\n",
    "tel"
   ]
  },
  {
   "cell_type": "code",
   "execution_count": null,
   "id": "9bf7163a",
   "metadata": {},
   "outputs": [],
   "source": [
    "tel.optics"
   ]
  },
  {
   "cell_type": "code",
   "execution_count": null,
   "id": "0f347f51",
   "metadata": {},
   "outputs": [],
   "source": [
    "tel.camera.geometry"
   ]
  },
  {
   "cell_type": "code",
   "execution_count": null,
   "id": "37647992",
   "metadata": {},
   "outputs": [],
   "source": [
    "tel.camera.geometry.to_table()"
   ]
  },
  {
   "cell_type": "markdown",
   "id": "708dfbba",
   "metadata": {},
   "source": [
    "*Visualize the camera:*"
   ]
  },
  {
   "cell_type": "code",
   "execution_count": null,
   "id": "dd69f159",
   "metadata": {},
   "outputs": [],
   "source": [
    "disp = CameraDisplay(tel.camera.geometry)"
   ]
  },
  {
   "cell_type": "markdown",
   "id": "88c2c795",
   "metadata": {},
   "source": [
    "### DL1\n",
    "\n",
    "DL1 is split in two sub-levels\n",
    "\n",
    "* __DL1a__: calibrated images in units of photoelectrons (p.e.) and information about the time of arrival of the signal to each pixel.\n",
    "* __DL1b__: parametrizations of the DL1a images, the so-called \"Hillas parameters\"."
   ]
  },
  {
   "cell_type": "markdown",
   "id": "6bf31680",
   "metadata": {},
   "source": [
    "### DL1a: Images table:\n",
    "*See images table for the LSTCam tel_id 001:*"
   ]
  },
  {
   "cell_type": "code",
   "execution_count": null,
   "id": "92e3549e",
   "metadata": {},
   "outputs": [],
   "source": [
    "dl1_images = read_table(hdf_file, '/dl1/event/telescope/images/tel_001')\n",
    "dl1_images"
   ]
  },
  {
   "cell_type": "markdown",
   "id": "4d7eb5fd",
   "metadata": {},
   "source": [
    "The images table stores, for each event and pixel:\n",
    "\n",
    "- the charge in photo electrons (\"image\")\n",
    "- the time of the light arrival in ns (\"peak time\")\n",
    "- whether the pixel survived cleaning or not (\"image_mask\"). "
   ]
  },
  {
   "cell_type": "markdown",
   "id": "bd3da6b2",
   "metadata": {},
   "source": [
    "*There are 5987 different events, here we choose as an example the number 1:*"
   ]
  },
  {
   "cell_type": "code",
   "execution_count": null,
   "id": "bcf8fa4a",
   "metadata": {},
   "outputs": [],
   "source": [
    "event = 2198\n",
    "dl1_singleim = np.array(dl1_images['image'][event])\n",
    "dl1_singlepeak = np.array(dl1_images['peak_time'][event])\n",
    "obs_id = dl1_images['obs_id'][event]\n",
    "event_id = dl1_images['event_id'][event]\n",
    "print(\"obs_id:\",obs_id,\"event_id:\",event_id)"
   ]
  },
  {
   "cell_type": "markdown",
   "id": "0974acc6",
   "metadata": {},
   "source": [
    "*Show the image:*"
   ]
  },
  {
   "cell_type": "code",
   "execution_count": null,
   "id": "de8ffc4a",
   "metadata": {},
   "outputs": [],
   "source": [
    "fig, (ax1, ax2) = plt.subplots(1, 2, figsize=(15, 5))\n",
    "d1 = CameraDisplay(tel.camera.geometry, image=dl1_singleim, ax=ax1)\n",
    "d2 = CameraDisplay(tel.camera.geometry, image=dl1_singlepeak, ax=ax2)\n",
    "\n",
    "ax1.set_title(\"Image (p.e.)\")\n",
    "d1.add_colorbar(ax=ax1)\n",
    "\n",
    "ax2.set_title(\"Peak time (ns)\")\n",
    "d2.add_colorbar(ax=ax2)\n"
   ]
  },
  {
   "cell_type": "markdown",
   "id": "cd900ec8",
   "metadata": {},
   "source": [
    "*Remove pixels that did not survived cleaning using \"image_mask\":*"
   ]
  },
  {
   "cell_type": "code",
   "execution_count": null,
   "id": "1e20462b",
   "metadata": {},
   "outputs": [],
   "source": [
    "dl1_mask = np.array(dl1_images['image_mask'])\n",
    "dl1_singlemask = dl1_mask[event]"
   ]
  },
  {
   "cell_type": "code",
   "execution_count": null,
   "id": "9e9b36e5",
   "metadata": {},
   "outputs": [],
   "source": [
    "cleaned = dl1_singleim.copy()\n",
    "cleaned[~dl1_singlemask] = 0 "
   ]
  },
  {
   "cell_type": "code",
   "execution_count": null,
   "id": "2af2c9bc",
   "metadata": {},
   "outputs": [],
   "source": [
    "cleaned_peak = dl1_singlepeak.copy()\n",
    "cleaned_peak[~dl1_singlemask] = 0 "
   ]
  },
  {
   "cell_type": "markdown",
   "id": "b4c8aeb7",
   "metadata": {},
   "source": [
    "*Remove the image pixels that did not passed the clean cut:*"
   ]
  },
  {
   "cell_type": "code",
   "execution_count": null,
   "id": "bf154f25",
   "metadata": {},
   "outputs": [],
   "source": [
    "fig, (ax1, ax2) = plt.subplots(1, 2, figsize=(15, 5))\n",
    "d1 = CameraDisplay(tel.camera.geometry, image=cleaned, ax=ax1)\n",
    "d2 = CameraDisplay(tel.camera.geometry, image=cleaned_peak, ax=ax2)\n",
    "\n",
    "ax1.set_title(\"Image (p.e.)\")\n",
    "d1.add_colorbar(ax=ax1)\n",
    "\n",
    "ax2.set_title(\"Peak time (ns)\")\n",
    "d2.add_colorbar(ax=ax2)"
   ]
  },
  {
   "cell_type": "markdown",
   "id": "1d77131a",
   "metadata": {},
   "source": [
    "*Now highlight the image pixels that passed the clean cut:*"
   ]
  },
  {
   "cell_type": "code",
   "execution_count": null,
   "id": "2ddf304a",
   "metadata": {},
   "outputs": [],
   "source": [
    "fig, (ax1, ax2) = plt.subplots(1, 2, figsize=(15, 5))\n",
    "\n",
    "d1 = CameraDisplay(tel.camera.geometry, image=dl1_singleim, ax=ax1)\n",
    "d2 = CameraDisplay(tel.camera.geometry, image=dl1_singlepeak - np.average(dl1_singlepeak, weights=dl1_singlepeak), ax=ax2)\n",
    "\n",
    "ax1.set_title(\"Image (p.e.)\")\n",
    "d1.add_colorbar(ax=ax1)\n",
    "d1.highlight_pixels(dl1_singlemask, color=\"red\", linewidth=1)\n",
    "\n",
    "ax2.set_title(\"Pulse Time (ns)\")\n",
    "d2.add_colorbar(ax=ax2)"
   ]
  },
  {
   "cell_type": "markdown",
   "id": "948139ca",
   "metadata": {},
   "source": [
    "### DL1b: Image parameters:\n",
    "See parameters table for the LSTCam:"
   ]
  },
  {
   "cell_type": "code",
   "execution_count": null,
   "id": "5bec6df5",
   "metadata": {},
   "outputs": [],
   "source": [
    "dl1_parameters = read_table(hdf_file, '/dl1/event/telescope/parameters/tel_001')\n",
    "dl1_parameters"
   ]
  },
  {
   "cell_type": "markdown",
   "id": "f4e6b703",
   "metadata": {},
   "source": [
    "There are 3 types of parameters that describe the shower: \n",
    "- Hillas parameters.\n",
    "- Leakage parameters.\n",
    "- Concentration parameters."
   ]
  },
  {
   "cell_type": "markdown",
   "id": "967cc6da",
   "metadata": {},
   "source": [
    "### Hillas parameters:\n",
    "The Hillas parameters are a set of geometric features that describe the orientation and size of an ellipse fitted to the area of a shower image, relying\n",
    "on the fact that the gamma-ray images in the camera focal plane are, to a good approximation, elliptical in shape. These parameters are:\n",
    "- image centroid or \"center of gravity\" (x, y)\n",
    "- length and width of the ellipse\n",
    "- size (total image amplitude)\n",
    "- nominal distance d (angular distance between the centre of the camera and the image centre of gravity)\n",
    "- azimuthal angle of the image main axis φ\n",
    "- orientation angle α \n",
    "\n",
    "All parameters are calculated using the charge, time and coordinates of the pixels surviving the cleaning. The Hillas parameters can be used to estimate event properties, e.g. using random forests. \n",
    "\n",
    "\n",
    "![sketch_with_disp_angle.png](sketch_with_disp_angle.png)\n",
    "Image adapted from https://github.com/cta-observatory/ctapipe/issues/1078#issuecomment-495663160\n"
   ]
  },
  {
   "cell_type": "markdown",
   "id": "32532957",
   "metadata": {},
   "source": [
    "*It is possible to extract the Hillas parameters directly from DL1a images:*"
   ]
  },
  {
   "cell_type": "code",
   "execution_count": null,
   "id": "02aaf53a",
   "metadata": {},
   "outputs": [],
   "source": [
    "hillas = hillas_parameters(tel.camera.geometry, cleaned)\n",
    "print(hillas)\n",
    "hillas"
   ]
  },
  {
   "cell_type": "markdown",
   "id": "7b3bcee0",
   "metadata": {},
   "source": [
    "*Plot Hillas parameters over the cleaned image:*"
   ]
  },
  {
   "cell_type": "code",
   "execution_count": null,
   "id": "c82d6684",
   "metadata": {},
   "outputs": [],
   "source": [
    "fig, (ax1) = plt.subplots(1, 1, figsize=(9, 6))\n",
    "\n",
    "disp = CameraDisplay(tel.camera.geometry, image=cleaned, title = \"Image (p.e.)\")\n",
    "disp.add_colorbar()\n",
    "disp.overlay_moments(hillas, color=\"yellow\", lw = 2)\n",
    "\n",
    "plt.xlim(hillas.x.to_value(u.m) - 0.5, hillas.x.to_value(u.m) + 0.5)\n",
    "plt.ylim(hillas.y.to_value(u.m) - 0.5, hillas.y.to_value(u.m) + 0.5)"
   ]
  },
  {
   "cell_type": "markdown",
   "id": "bf687bc8",
   "metadata": {},
   "source": [
    "*Hillas parameters from the given table:*"
   ]
  },
  {
   "cell_type": "code",
   "execution_count": null,
   "id": "2bfa2a58",
   "metadata": {},
   "outputs": [],
   "source": [
    "dl1_parameters[0:5]"
   ]
  },
  {
   "cell_type": "markdown",
   "id": "840b29a5",
   "metadata": {},
   "source": [
    "*Choose the parameters that correspond to the obs_id and event_id of the selected image:*"
   ]
  },
  {
   "cell_type": "code",
   "execution_count": null,
   "id": "d6a36b08",
   "metadata": {},
   "outputs": [],
   "source": [
    "hillas_singleim = dl1_parameters[(dl1_parameters['obs_id'] == obs_id) & (dl1_parameters['event_id'] == event_id)\n",
    "                                & (dl1_parameters['tel_id'] == 1)]"
   ]
  },
  {
   "cell_type": "code",
   "execution_count": null,
   "id": "3f1b47a7",
   "metadata": {},
   "outputs": [],
   "source": [
    "hillas_singleim"
   ]
  },
  {
   "cell_type": "markdown",
   "id": "3cb96d76",
   "metadata": {},
   "source": [
    "### ctapipe.io.TableLoader\n",
    "Now we will load all four LST telescopes and plot their images using **ctapipe.io.TableLoader**"
   ]
  },
  {
   "cell_type": "code",
   "execution_count": null,
   "id": "5fbb2ad6",
   "metadata": {},
   "outputs": [],
   "source": [
    "with TableLoader(\n",
    "    \"/Users/nalvarez/Documents/ESCAPE/cta/dataset/zenodo_gamma-diffuse/gamma-diffuse_with_images_00.dl2.h5\",\n",
    "    load_dl1_images=True,\n",
    "    load_true_images=True,\n",
    "    load_simulated=True,\n",
    ") as loader: \n",
    "    lst_images = loader.read_telescope_events(\"LST_LST_LSTCam\", start=0,stop=10000)"
   ]
  },
  {
   "cell_type": "code",
   "execution_count": null,
   "id": "7d7bff30",
   "metadata": {},
   "outputs": [],
   "source": [
    "lst_images[0:5]"
   ]
  },
  {
   "cell_type": "code",
   "execution_count": null,
   "id": "b7176ad6",
   "metadata": {},
   "outputs": [],
   "source": [
    "!jupyter nbextension enable --py --sys-prefix widgetsnbextension\n"
   ]
  },
  {
   "cell_type": "code",
   "execution_count": null,
   "id": "4dc15899",
   "metadata": {},
   "outputs": [],
   "source": [
    "from ipywidgets import interact, IntSlider\n",
    "from ctapipe.coordinates import TelescopeFrame\n",
    "camera = subarray.tel[1].camera.geometry.transform_to(TelescopeFrame())\n",
    "fig, (ax_image, ax_time) = plt.subplots(1, 2, layout=\"constrained\", figsize=(9,4.5))\n",
    "d_image = CameraDisplay(\n",
    "    camera,\n",
    "    image=lst_images['image'][0],\n",
    "    ax=ax_image\n",
    ")\n",
    "d_image.add_colorbar()\n",
    "d_time = CameraDisplay(\n",
    "    camera,\n",
    "    image=lst_images['peak_time'][0],\n",
    "    ax=ax_time,\n",
    "    cmap=plt.get_cmap('RdBu_r').with_extremes(bad='gray')\n",
    ")\n",
    "d_time.add_colorbar()\n",
    "\n",
    "def update(index):\n",
    "    row = lst_images[index]\n",
    "    d_image.image = row['image']\n",
    "    d_time.image = np.where(row['image_mask'], row['peak_time'], np.nan)\n",
    "    ax_image.set_title(f'obs_id {row[\"obs_id\"]}, event_id {row[\"event_id\"]},tel_id {row[\"tel_id\"]}')\n",
    "    ax_time.set_title(f'true_energy {row[\"true_energy\"]:.3f} TeV')\n",
    "    \n",
    "interact(update, index=IntSlider(min=0, max=len(lst_images) - 1, value=1900))"
   ]
  }
 ],
 "metadata": {
  "kernelspec": {
   "display_name": "Python 3 (ipykernel)",
   "language": "python",
   "name": "python3"
  },
  "language_info": {
   "codemirror_mode": {
    "name": "ipython",
    "version": 3
   },
   "file_extension": ".py",
   "mimetype": "text/x-python",
   "name": "python",
   "nbconvert_exporter": "python",
   "pygments_lexer": "ipython3",
   "version": "3.9.15"
  }
 },
 "nbformat": 4,
 "nbformat_minor": 5
}
